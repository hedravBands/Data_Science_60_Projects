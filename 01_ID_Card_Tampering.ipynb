{
  "nbformat": 4,
  "nbformat_minor": 0,
  "metadata": {
    "colab": {
      "name": "01 - ID Card Tampering.ipynb",
      "provenance": [],
      "authorship_tag": "ABX9TyMqDSY4wveZGJzrpv/n1G74",
      "include_colab_link": true
    },
    "kernelspec": {
      "name": "python3",
      "display_name": "Python 3"
    },
    "language_info": {
      "name": "python"
    }
  },
  "cells": [
    {
      "cell_type": "markdown",
      "metadata": {
        "id": "view-in-github",
        "colab_type": "text"
      },
      "source": [
        "<a href=\"https://colab.research.google.com/github/hedravBands/Data_Science_60_Projects/blob/main/01_ID_Card_Tampering.ipynb\" target=\"_parent\"><img src=\"https://colab.research.google.com/assets/colab-badge.svg\" alt=\"Open In Colab\"/></a>"
      ]
    },
    {
      "cell_type": "code",
      "execution_count": null,
      "metadata": {
        "id": "B2V7J2IC6vKK"
      },
      "outputs": [],
      "source": [
        ""
      ]
    }
  ]
}